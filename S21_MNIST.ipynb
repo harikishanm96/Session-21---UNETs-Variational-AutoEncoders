{
  "nbformat": 4,
  "nbformat_minor": 0,
  "metadata": {
    "colab": {
      "provenance": [],
      "gpuType": "T4"
    },
    "kernelspec": {
      "name": "python3",
      "display_name": "Python 3"
    },
    "language_info": {
      "name": "python"
    },
    "accelerator": "GPU",
    "widgets": {
      "application/vnd.jupyter.widget-state+json": {
        "4b7a5f15f60c4e9692e63f5c2c4a1617": {
          "model_module": "@jupyter-widgets/controls",
          "model_name": "HBoxModel",
          "model_module_version": "1.5.0",
          "state": {
            "_dom_classes": [],
            "_model_module": "@jupyter-widgets/controls",
            "_model_module_version": "1.5.0",
            "_model_name": "HBoxModel",
            "_view_count": null,
            "_view_module": "@jupyter-widgets/controls",
            "_view_module_version": "1.5.0",
            "_view_name": "HBoxView",
            "box_style": "",
            "children": [
              "IPY_MODEL_538e2211e53843d0b6b92f18392cea53",
              "IPY_MODEL_5062b8134e5c4cca907a1baadfa81fe2",
              "IPY_MODEL_fe783f306eb447d2811b9feb19657d0e"
            ],
            "layout": "IPY_MODEL_4551e38ef24a4bbea28a7a578a39c862"
          }
        },
        "538e2211e53843d0b6b92f18392cea53": {
          "model_module": "@jupyter-widgets/controls",
          "model_name": "HTMLModel",
          "model_module_version": "1.5.0",
          "state": {
            "_dom_classes": [],
            "_model_module": "@jupyter-widgets/controls",
            "_model_module_version": "1.5.0",
            "_model_name": "HTMLModel",
            "_view_count": null,
            "_view_module": "@jupyter-widgets/controls",
            "_view_module_version": "1.5.0",
            "_view_name": "HTMLView",
            "description": "",
            "description_tooltip": null,
            "layout": "IPY_MODEL_0dcfc2cc544c485fad052b081a6375e8",
            "placeholder": "​",
            "style": "IPY_MODEL_d0f5dc5d194147a5a5da8cad8d2fe5f6",
            "value": "Epoch 9: 100%"
          }
        },
        "5062b8134e5c4cca907a1baadfa81fe2": {
          "model_module": "@jupyter-widgets/controls",
          "model_name": "FloatProgressModel",
          "model_module_version": "1.5.0",
          "state": {
            "_dom_classes": [],
            "_model_module": "@jupyter-widgets/controls",
            "_model_module_version": "1.5.0",
            "_model_name": "FloatProgressModel",
            "_view_count": null,
            "_view_module": "@jupyter-widgets/controls",
            "_view_module_version": "1.5.0",
            "_view_name": "ProgressView",
            "bar_style": "success",
            "description": "",
            "description_tooltip": null,
            "layout": "IPY_MODEL_d5eb40d7db284b7a98e987ae98dbc5a7",
            "max": 1875,
            "min": 0,
            "orientation": "horizontal",
            "style": "IPY_MODEL_2cdb69199c934284983916efe78a3880",
            "value": 1875
          }
        },
        "fe783f306eb447d2811b9feb19657d0e": {
          "model_module": "@jupyter-widgets/controls",
          "model_name": "HTMLModel",
          "model_module_version": "1.5.0",
          "state": {
            "_dom_classes": [],
            "_model_module": "@jupyter-widgets/controls",
            "_model_module_version": "1.5.0",
            "_model_name": "HTMLModel",
            "_view_count": null,
            "_view_module": "@jupyter-widgets/controls",
            "_view_module_version": "1.5.0",
            "_view_name": "HTMLView",
            "description": "",
            "description_tooltip": null,
            "layout": "IPY_MODEL_e5e94a56ff2743a2b9121b795bc28677",
            "placeholder": "​",
            "style": "IPY_MODEL_a9992ca6975846128ae26a579a04dad8",
            "value": " 1875/1875 [01:53&lt;00:00, 16.59it/s, loss=870, v_num=0]"
          }
        },
        "4551e38ef24a4bbea28a7a578a39c862": {
          "model_module": "@jupyter-widgets/base",
          "model_name": "LayoutModel",
          "model_module_version": "1.2.0",
          "state": {
            "_model_module": "@jupyter-widgets/base",
            "_model_module_version": "1.2.0",
            "_model_name": "LayoutModel",
            "_view_count": null,
            "_view_module": "@jupyter-widgets/base",
            "_view_module_version": "1.2.0",
            "_view_name": "LayoutView",
            "align_content": null,
            "align_items": null,
            "align_self": null,
            "border": null,
            "bottom": null,
            "display": "inline-flex",
            "flex": null,
            "flex_flow": "row wrap",
            "grid_area": null,
            "grid_auto_columns": null,
            "grid_auto_flow": null,
            "grid_auto_rows": null,
            "grid_column": null,
            "grid_gap": null,
            "grid_row": null,
            "grid_template_areas": null,
            "grid_template_columns": null,
            "grid_template_rows": null,
            "height": null,
            "justify_content": null,
            "justify_items": null,
            "left": null,
            "margin": null,
            "max_height": null,
            "max_width": null,
            "min_height": null,
            "min_width": null,
            "object_fit": null,
            "object_position": null,
            "order": null,
            "overflow": null,
            "overflow_x": null,
            "overflow_y": null,
            "padding": null,
            "right": null,
            "top": null,
            "visibility": null,
            "width": "100%"
          }
        },
        "0dcfc2cc544c485fad052b081a6375e8": {
          "model_module": "@jupyter-widgets/base",
          "model_name": "LayoutModel",
          "model_module_version": "1.2.0",
          "state": {
            "_model_module": "@jupyter-widgets/base",
            "_model_module_version": "1.2.0",
            "_model_name": "LayoutModel",
            "_view_count": null,
            "_view_module": "@jupyter-widgets/base",
            "_view_module_version": "1.2.0",
            "_view_name": "LayoutView",
            "align_content": null,
            "align_items": null,
            "align_self": null,
            "border": null,
            "bottom": null,
            "display": null,
            "flex": null,
            "flex_flow": null,
            "grid_area": null,
            "grid_auto_columns": null,
            "grid_auto_flow": null,
            "grid_auto_rows": null,
            "grid_column": null,
            "grid_gap": null,
            "grid_row": null,
            "grid_template_areas": null,
            "grid_template_columns": null,
            "grid_template_rows": null,
            "height": null,
            "justify_content": null,
            "justify_items": null,
            "left": null,
            "margin": null,
            "max_height": null,
            "max_width": null,
            "min_height": null,
            "min_width": null,
            "object_fit": null,
            "object_position": null,
            "order": null,
            "overflow": null,
            "overflow_x": null,
            "overflow_y": null,
            "padding": null,
            "right": null,
            "top": null,
            "visibility": null,
            "width": null
          }
        },
        "d0f5dc5d194147a5a5da8cad8d2fe5f6": {
          "model_module": "@jupyter-widgets/controls",
          "model_name": "DescriptionStyleModel",
          "model_module_version": "1.5.0",
          "state": {
            "_model_module": "@jupyter-widgets/controls",
            "_model_module_version": "1.5.0",
            "_model_name": "DescriptionStyleModel",
            "_view_count": null,
            "_view_module": "@jupyter-widgets/base",
            "_view_module_version": "1.2.0",
            "_view_name": "StyleView",
            "description_width": ""
          }
        },
        "d5eb40d7db284b7a98e987ae98dbc5a7": {
          "model_module": "@jupyter-widgets/base",
          "model_name": "LayoutModel",
          "model_module_version": "1.2.0",
          "state": {
            "_model_module": "@jupyter-widgets/base",
            "_model_module_version": "1.2.0",
            "_model_name": "LayoutModel",
            "_view_count": null,
            "_view_module": "@jupyter-widgets/base",
            "_view_module_version": "1.2.0",
            "_view_name": "LayoutView",
            "align_content": null,
            "align_items": null,
            "align_self": null,
            "border": null,
            "bottom": null,
            "display": null,
            "flex": "2",
            "flex_flow": null,
            "grid_area": null,
            "grid_auto_columns": null,
            "grid_auto_flow": null,
            "grid_auto_rows": null,
            "grid_column": null,
            "grid_gap": null,
            "grid_row": null,
            "grid_template_areas": null,
            "grid_template_columns": null,
            "grid_template_rows": null,
            "height": null,
            "justify_content": null,
            "justify_items": null,
            "left": null,
            "margin": null,
            "max_height": null,
            "max_width": null,
            "min_height": null,
            "min_width": null,
            "object_fit": null,
            "object_position": null,
            "order": null,
            "overflow": null,
            "overflow_x": null,
            "overflow_y": null,
            "padding": null,
            "right": null,
            "top": null,
            "visibility": null,
            "width": null
          }
        },
        "2cdb69199c934284983916efe78a3880": {
          "model_module": "@jupyter-widgets/controls",
          "model_name": "ProgressStyleModel",
          "model_module_version": "1.5.0",
          "state": {
            "_model_module": "@jupyter-widgets/controls",
            "_model_module_version": "1.5.0",
            "_model_name": "ProgressStyleModel",
            "_view_count": null,
            "_view_module": "@jupyter-widgets/base",
            "_view_module_version": "1.2.0",
            "_view_name": "StyleView",
            "bar_color": null,
            "description_width": ""
          }
        },
        "e5e94a56ff2743a2b9121b795bc28677": {
          "model_module": "@jupyter-widgets/base",
          "model_name": "LayoutModel",
          "model_module_version": "1.2.0",
          "state": {
            "_model_module": "@jupyter-widgets/base",
            "_model_module_version": "1.2.0",
            "_model_name": "LayoutModel",
            "_view_count": null,
            "_view_module": "@jupyter-widgets/base",
            "_view_module_version": "1.2.0",
            "_view_name": "LayoutView",
            "align_content": null,
            "align_items": null,
            "align_self": null,
            "border": null,
            "bottom": null,
            "display": null,
            "flex": null,
            "flex_flow": null,
            "grid_area": null,
            "grid_auto_columns": null,
            "grid_auto_flow": null,
            "grid_auto_rows": null,
            "grid_column": null,
            "grid_gap": null,
            "grid_row": null,
            "grid_template_areas": null,
            "grid_template_columns": null,
            "grid_template_rows": null,
            "height": null,
            "justify_content": null,
            "justify_items": null,
            "left": null,
            "margin": null,
            "max_height": null,
            "max_width": null,
            "min_height": null,
            "min_width": null,
            "object_fit": null,
            "object_position": null,
            "order": null,
            "overflow": null,
            "overflow_x": null,
            "overflow_y": null,
            "padding": null,
            "right": null,
            "top": null,
            "visibility": null,
            "width": null
          }
        },
        "a9992ca6975846128ae26a579a04dad8": {
          "model_module": "@jupyter-widgets/controls",
          "model_name": "DescriptionStyleModel",
          "model_module_version": "1.5.0",
          "state": {
            "_model_module": "@jupyter-widgets/controls",
            "_model_module_version": "1.5.0",
            "_model_name": "DescriptionStyleModel",
            "_view_count": null,
            "_view_module": "@jupyter-widgets/base",
            "_view_module_version": "1.2.0",
            "_view_name": "StyleView",
            "description_width": ""
          }
        }
      }
    }
  },
  "cells": [
    {
      "cell_type": "code",
      "execution_count": 1,
      "metadata": {
        "id": "driOq8NzYaTz"
      },
      "outputs": [],
      "source": [
        "%load_ext autoreload\n",
        "%autoreload 2"
      ]
    },
    {
      "cell_type": "code",
      "source": [
        "# Future print function\n",
        "from __future__ import print_function\n",
        "\n",
        "!git clone https://github.com/harikishanm96/Session-21---UNETs-Variational-AutoEncoders -q --quiet\n",
        "!mv Session-21---UNETs-Variational-AutoEncoders/*.py .\n",
        "!rm -rf S17---Assignment\n",
        "print(\"Loaded Modules and Models\")\n",
        "\n",
        "! pip install pytorch-lightning --quiet\n",
        "! pip install lightning-bolts --quiet"
      ],
      "metadata": {
        "colab": {
          "base_uri": "https://localhost:8080/"
        },
        "id": "s_xAs_eGZAHw",
        "outputId": "bdca3267-7631-4ae2-c608-05041baaf9ee"
      },
      "execution_count": 2,
      "outputs": [
        {
          "output_type": "stream",
          "name": "stdout",
          "text": [
            "Loaded Modules and Models\n",
            "\u001b[2K     \u001b[90m━━━━━━━━━━━━━━━━━━━━━━━━━━━━━━━━━━━━━━━━\u001b[0m \u001b[32m812.3/812.3 kB\u001b[0m \u001b[31m11.0 MB/s\u001b[0m eta \u001b[36m0:00:00\u001b[0m\n",
            "\u001b[2K     \u001b[90m━━━━━━━━━━━━━━━━━━━━━━━━━━━━━━━━━━━━━━━━\u001b[0m \u001b[32m868.8/868.8 kB\u001b[0m \u001b[31m17.3 MB/s\u001b[0m eta \u001b[36m0:00:00\u001b[0m\n",
            "\u001b[2K     \u001b[90m━━━━━━━━━━━━━━━━━━━━━━━━━━━━━━━━━━━━━━━━\u001b[0m \u001b[32m21.3/21.3 MB\u001b[0m \u001b[31m62.4 MB/s\u001b[0m eta \u001b[36m0:00:00\u001b[0m\n",
            "\u001b[2K     \u001b[90m━━━━━━━━━━━━━━━━━━━━━━━━━━━━━━━━━━━━━━━━\u001b[0m \u001b[32m300.8/300.8 kB\u001b[0m \u001b[31m5.9 MB/s\u001b[0m eta \u001b[36m0:00:00\u001b[0m\n",
            "\u001b[2K     \u001b[90m━━━━━━━━━━━━━━━━━━━━━━━━━━━━━━━━━━━━━━━━\u001b[0m \u001b[32m829.5/829.5 kB\u001b[0m \u001b[31m10.1 MB/s\u001b[0m eta \u001b[36m0:00:00\u001b[0m\n",
            "\u001b[?25h"
          ]
        }
      ]
    },
    {
      "cell_type": "code",
      "source": [
        "import torch\n",
        "from torch import nn\n",
        "from torch.nn import functional as F\n",
        "from torchvision import transforms\n",
        "from torchvision.datasets import MNIST\n",
        "from torch.utils.data import DataLoader\n",
        "import pytorch_lightning as pl\n",
        "from pytorch_lightning.callbacks import ModelSummary"
      ],
      "metadata": {
        "id": "Pp_kJvcqi_ki"
      },
      "execution_count": 3,
      "outputs": []
    },
    {
      "cell_type": "code",
      "source": [
        "BATCH_SIZE = 32\n",
        "\n",
        "normalize_data = transforms.Compose([transforms.ToTensor(),\n",
        "                                     transforms.Normalize((0.1307,), (0.3081,))\n",
        "                                     ])\n",
        "\n",
        "train_dataset = MNIST(root='./data', train=True, transform=normalize_data, download=True)\n",
        "train_dataloader = DataLoader(dataset=train_dataset, batch_size=BATCH_SIZE, shuffle=True)\n",
        "\n",
        "test_dataset = MNIST(root='./data', train=False, transform=normalize_data, download=True)\n",
        "test_dataloader = DataLoader(dataset = test_dataset, batch_size=BATCH_SIZE, shuffle=False)"
      ],
      "metadata": {
        "colab": {
          "base_uri": "https://localhost:8080/"
        },
        "id": "NoYsVTQajeoM",
        "outputId": "155fb812-59f0-4a70-81f9-ae067e592dc7"
      },
      "execution_count": 4,
      "outputs": [
        {
          "output_type": "stream",
          "name": "stdout",
          "text": [
            "Downloading http://yann.lecun.com/exdb/mnist/train-images-idx3-ubyte.gz\n",
            "Failed to download (trying next):\n",
            "HTTP Error 403: Forbidden\n",
            "\n",
            "Downloading https://ossci-datasets.s3.amazonaws.com/mnist/train-images-idx3-ubyte.gz\n",
            "Downloading https://ossci-datasets.s3.amazonaws.com/mnist/train-images-idx3-ubyte.gz to ./data/MNIST/raw/train-images-idx3-ubyte.gz\n"
          ]
        },
        {
          "output_type": "stream",
          "name": "stderr",
          "text": [
            "100%|██████████| 9912422/9912422 [00:00<00:00, 15916085.19it/s]\n"
          ]
        },
        {
          "output_type": "stream",
          "name": "stdout",
          "text": [
            "Extracting ./data/MNIST/raw/train-images-idx3-ubyte.gz to ./data/MNIST/raw\n",
            "\n",
            "Downloading http://yann.lecun.com/exdb/mnist/train-labels-idx1-ubyte.gz\n",
            "Failed to download (trying next):\n",
            "HTTP Error 403: Forbidden\n",
            "\n",
            "Downloading https://ossci-datasets.s3.amazonaws.com/mnist/train-labels-idx1-ubyte.gz\n",
            "Downloading https://ossci-datasets.s3.amazonaws.com/mnist/train-labels-idx1-ubyte.gz to ./data/MNIST/raw/train-labels-idx1-ubyte.gz\n"
          ]
        },
        {
          "output_type": "stream",
          "name": "stderr",
          "text": [
            "100%|██████████| 28881/28881 [00:00<00:00, 482345.21it/s]\n"
          ]
        },
        {
          "output_type": "stream",
          "name": "stdout",
          "text": [
            "Extracting ./data/MNIST/raw/train-labels-idx1-ubyte.gz to ./data/MNIST/raw\n",
            "\n",
            "Downloading http://yann.lecun.com/exdb/mnist/t10k-images-idx3-ubyte.gz\n",
            "Failed to download (trying next):\n",
            "HTTP Error 403: Forbidden\n",
            "\n",
            "Downloading https://ossci-datasets.s3.amazonaws.com/mnist/t10k-images-idx3-ubyte.gz\n",
            "Downloading https://ossci-datasets.s3.amazonaws.com/mnist/t10k-images-idx3-ubyte.gz to ./data/MNIST/raw/t10k-images-idx3-ubyte.gz\n"
          ]
        },
        {
          "output_type": "stream",
          "name": "stderr",
          "text": [
            "100%|██████████| 1648877/1648877 [00:00<00:00, 4435433.10it/s]\n"
          ]
        },
        {
          "output_type": "stream",
          "name": "stdout",
          "text": [
            "Extracting ./data/MNIST/raw/t10k-images-idx3-ubyte.gz to ./data/MNIST/raw\n",
            "\n",
            "Downloading http://yann.lecun.com/exdb/mnist/t10k-labels-idx1-ubyte.gz\n",
            "Failed to download (trying next):\n",
            "HTTP Error 403: Forbidden\n",
            "\n",
            "Downloading https://ossci-datasets.s3.amazonaws.com/mnist/t10k-labels-idx1-ubyte.gz\n",
            "Downloading https://ossci-datasets.s3.amazonaws.com/mnist/t10k-labels-idx1-ubyte.gz to ./data/MNIST/raw/t10k-labels-idx1-ubyte.gz\n"
          ]
        },
        {
          "output_type": "stream",
          "name": "stderr",
          "text": [
            "100%|██████████| 4542/4542 [00:00<00:00, 8807456.67it/s]"
          ]
        },
        {
          "output_type": "stream",
          "name": "stdout",
          "text": [
            "Extracting ./data/MNIST/raw/t10k-labels-idx1-ubyte.gz to ./data/MNIST/raw\n",
            "\n"
          ]
        },
        {
          "output_type": "stream",
          "name": "stderr",
          "text": [
            "\n"
          ]
        }
      ]
    },
    {
      "cell_type": "code",
      "source": [
        "class VAE(pl.LightningModule):\n",
        "    \"\"\"\n",
        "    Lightning Module for VAE\n",
        "    \"\"\"\n",
        "    def __init__(self, enc_out_dim=256, latent_dim=256, input_height=28):\n",
        "        \"\"\"\n",
        "        Constructor\n",
        "        \"\"\"\n",
        "        # Initialize the lightning module\n",
        "        super().__init__()\n",
        "\n",
        "        # Save the input params\n",
        "        self.save_hyperparameters()\n",
        "\n",
        "        # Encoder Layers\n",
        "        self.encoder_conv_layers = nn.Sequential(\n",
        "            self.conv_layer(in_channels=2, out_channels=32),             # Input Channels = 4  [2 for Grayscale and 1 for label data]\n",
        "            self.conv_layer(in_channels=32, out_channels=64),\n",
        "            self.conv_layer(in_channels=64, out_channels=128),\n",
        "            self.conv_layer(in_channels=128, out_channels=256)\n",
        "        )\n",
        "\n",
        "        # distribution parameters\n",
        "        self.fc_mu = nn.Linear(enc_out_dim * 20 * 20, latent_dim)        # 20 since input image size is reduced to 20 after 3 conv layers\n",
        "        self.fc_var = nn.Linear(enc_out_dim * 20 * 20, latent_dim)\n",
        "\n",
        "        # Decoder's Linear Layer\n",
        "        self.linear = nn.Linear(latent_dim + 10, enc_out_dim * 20 * 20)  # 10 [One for each class]\n",
        "\n",
        "        # Decoder Layers\n",
        "        self.decoder_conv_layers = nn.Sequential(\n",
        "            self.transpose_layer(in_channels=256, out_channels=128),\n",
        "            nn.ReLU(),\n",
        "            self.transpose_layer(in_channels=128, out_channels=64),\n",
        "            nn.ReLU(),\n",
        "            self.transpose_layer(in_channels=64, out_channels=32),\n",
        "            nn.ReLU(),\n",
        "            self.transpose_layer(in_channels=32, out_channels=1)\n",
        "        )\n",
        "\n",
        "        # for the gaussian likelihood\n",
        "        self.log_scale = nn.Parameter(torch.Tensor([0.0]))\n",
        "\n",
        "    def conv_layer(self, in_channels, out_channels):\n",
        "        \"\"\"\n",
        "        Function to return conv layer\n",
        "        \"\"\"\n",
        "        return nn.Sequential(\n",
        "            nn.Conv2d(in_channels=in_channels, out_channels=out_channels, kernel_size=3, bias=False),\n",
        "            nn.ReLU()\n",
        "        )\n",
        "\n",
        "    def transpose_layer(self, in_channels, out_channels):\n",
        "        \"\"\"\n",
        "        Function to return Transpose layer\n",
        "        \"\"\"\n",
        "        return nn.Sequential(\n",
        "            nn.ConvTranspose2d(in_channels, out_channels, kernel_size=3, bias=False)\n",
        "        )\n",
        "\n",
        "    def encoder(self, x, y):\n",
        "        \"\"\"\n",
        "        Encoder Block of the VAE\n",
        "        \"\"\"\n",
        "        # Batch size and input dimensions\n",
        "        batch_size = x.shape[0]\n",
        "        img_height = x.shape[2]   # Height = Width\n",
        "\n",
        "        # Concatenate Label data to the image data\n",
        "        y = torch.argmax(y, dim=1).reshape((y.shape[0], 1, 1, 1))\n",
        "        y = torch.ones(x.shape).to(self.device) * y\n",
        "        concat_input = torch.cat((x, y), dim=1)\n",
        "\n",
        "        # Pass the concatenated input through the encoder layers and flatten it\n",
        "        x = self.encoder_conv_layers(concat_input)\n",
        "        x = x.view(batch_size, -1)\n",
        "        return x\n",
        "\n",
        "    def decoder(self, z, y):\n",
        "        \"\"\"\n",
        "        Decoder Block of VAE\n",
        "        \"\"\"\n",
        "        # Add 10 neurons (one for each class to the latent layer)\n",
        "        z = torch.cat((z, y.float()), dim=1)\n",
        "\n",
        "        # Latent layer\n",
        "        x_hat = F.relu(self.linear(z))\n",
        "        x_hat = x_hat.reshape(-1, 256, 20, 20)\n",
        "\n",
        "        # Decoder layers\n",
        "        x_hat = self.decoder_conv_layers(x_hat)\n",
        "        x_hat = torch.sigmoid(x_hat)\n",
        "        return x_hat\n",
        "\n",
        "    def configure_optimizers(self):\n",
        "        \"\"\"\n",
        "        Optimizer for model training\n",
        "        \"\"\"\n",
        "        return torch.optim.Adam(self.parameters(), lr=1e-4)\n",
        "\n",
        "    def gaussian_likelihood(self, mean, logscale, sample):\n",
        "        \"\"\"\n",
        "        \"\"\"\n",
        "        scale = torch.exp(logscale)\n",
        "        dist = torch.distributions.Normal(mean, scale)\n",
        "        log_pxz = dist.log_prob(sample)\n",
        "        return log_pxz.sum(dim=(1, 2, 3))\n",
        "\n",
        "    def kl_divergence(self, z, mu, std):\n",
        "        \"\"\"\n",
        "        \"\"\"\n",
        "        # --------------------------\n",
        "        # Monte carlo KL divergence\n",
        "        # --------------------------\n",
        "        # 1. define the first two probabilities (in this case Normal for both)\n",
        "        p = torch.distributions.Normal(torch.zeros_like(mu), torch.ones_like(std))\n",
        "        q = torch.distributions.Normal(mu, std)\n",
        "\n",
        "        # 2. get the probabilities from the equation\n",
        "        log_qzx = q.log_prob(z)\n",
        "        log_pz = p.log_prob(z)\n",
        "\n",
        "        # kl\n",
        "        kl = (log_qzx - log_pz)\n",
        "        kl = kl.sum(-1)\n",
        "        return kl\n",
        "\n",
        "    def forward(self, x, y):\n",
        "        \"\"\"\n",
        "        Forward method\n",
        "        \"\"\"\n",
        "        # encode x to get the mu and variance parameters\n",
        "        x_encoded = self.encoder(x, y)\n",
        "\n",
        "        mu, log_var = self.fc_mu(x_encoded), self.fc_var(x_encoded)\n",
        "        std = torch.exp(log_var/2)\n",
        "        q = torch.distributions.Normal(mu,std)\n",
        "        z = q.rsample()\n",
        "\n",
        "        x_hat = self.decoder(z, y)\n",
        "        return x_hat\n",
        "\n",
        "    def training_step(self, batch, batch_idx):\n",
        "        \"\"\"\n",
        "        Function to train the model\n",
        "        \"\"\"\n",
        "        # Input data\n",
        "        x, y = batch\n",
        "\n",
        "        # One-Hot encoding of label data\n",
        "        y = F.one_hot(y, num_classes=10)\n",
        "\n",
        "        # encode x to get the mu and variance parameters\n",
        "        x_encoded = self.encoder(x, y)\n",
        "\n",
        "        # Encoder output mu and sigma\n",
        "        mu, log_var = self.fc_mu(x_encoded), self.fc_var(x_encoded)\n",
        "\n",
        "        # sample z from q\n",
        "        std = torch.exp(log_var / 2)\n",
        "        q = torch.distributions.Normal(mu, std)\n",
        "        z = q.rsample()\n",
        "\n",
        "        # decoded\n",
        "        x_hat = self.decoder(z, y)\n",
        "\n",
        "        # reconstruction loss\n",
        "        recon_loss = self.gaussian_likelihood(x_hat, self.log_scale, x)\n",
        "\n",
        "        # kl\n",
        "        kl = self.kl_divergence(z, mu, std)\n",
        "\n",
        "        # elbo\n",
        "        elbo = (kl - recon_loss)\n",
        "        elbo = elbo.mean()\n",
        "\n",
        "        self.log_dict({\n",
        "            'elbo': elbo,\n",
        "            'kl': kl.mean(),\n",
        "            'recon_loss': recon_loss.mean(),\n",
        "            'reconstruction': recon_loss.mean(),\n",
        "            'kl': kl.mean(),\n",
        "        })\n",
        "\n",
        "        return elbo"
      ],
      "metadata": {
        "id": "qvwqACZAjiSB"
      },
      "execution_count": 5,
      "outputs": []
    },
    {
      "cell_type": "code",
      "source": [
        "# Seed for deterministic results\n",
        "pl.seed_everything(8)\n",
        "\n",
        "# Instance of the model\n",
        "model = VAE()\n",
        "\n",
        "# Trainer configuration\n",
        "trainer = pl.Trainer(\n",
        "    callbacks=[ModelSummary(max_depth=1)],\n",
        "    gpus=1,\n",
        "    num_sanity_val_steps=1,\n",
        "    max_epochs=10\n",
        "    )\n",
        "\n",
        "# Train the model\n",
        "trainer.fit(model, train_dataloader, test_dataloader)"
      ],
      "metadata": {
        "colab": {
          "base_uri": "https://localhost:8080/",
          "height": 520,
          "referenced_widgets": [
            "4b7a5f15f60c4e9692e63f5c2c4a1617",
            "538e2211e53843d0b6b92f18392cea53",
            "5062b8134e5c4cca907a1baadfa81fe2",
            "fe783f306eb447d2811b9feb19657d0e",
            "4551e38ef24a4bbea28a7a578a39c862",
            "0dcfc2cc544c485fad052b081a6375e8",
            "d0f5dc5d194147a5a5da8cad8d2fe5f6",
            "d5eb40d7db284b7a98e987ae98dbc5a7",
            "2cdb69199c934284983916efe78a3880",
            "e5e94a56ff2743a2b9121b795bc28677",
            "a9992ca6975846128ae26a579a04dad8"
          ]
        },
        "id": "9Xf0MGiNjpjR",
        "outputId": "edcf94ff-102d-4672-9e6e-e4a0ac61be26"
      },
      "execution_count": 6,
      "outputs": [
        {
          "output_type": "stream",
          "name": "stderr",
          "text": [
            "INFO:lightning_fabric.utilities.seed:Global seed set to 8\n",
            "/usr/local/lib/python3.10/dist-packages/pytorch_lightning/trainer/connectors/accelerator_connector.py:478: LightningDeprecationWarning: Setting `Trainer(gpus=1)` is deprecated in v1.7 and will be removed in v2.0. Please use `Trainer(accelerator='gpu', devices=1)` instead.\n",
            "  rank_zero_deprecation(\n",
            "INFO:pytorch_lightning.utilities.rank_zero:Trainer already configured with model summary callbacks: [<class 'pytorch_lightning.callbacks.model_summary.ModelSummary'>]. Skipping setting a default `ModelSummary` callback.\n",
            "INFO:pytorch_lightning.utilities.rank_zero:GPU available: True (cuda), used: True\n",
            "INFO:pytorch_lightning.utilities.rank_zero:TPU available: False, using: 0 TPU cores\n",
            "INFO:pytorch_lightning.utilities.rank_zero:IPU available: False, using: 0 IPUs\n",
            "INFO:pytorch_lightning.utilities.rank_zero:HPU available: False, using: 0 HPUs\n",
            "/usr/local/lib/python3.10/dist-packages/pytorch_lightning/trainer/configuration_validator.py:106: UserWarning: You passed in a `val_dataloader` but have no `validation_step`. Skipping val loop.\n",
            "  rank_zero_warn(\"You passed in a `val_dataloader` but have no `validation_step`. Skipping val loop.\")\n",
            "WARNING:pytorch_lightning.loggers.tensorboard:Missing logger folder: /content/lightning_logs\n",
            "INFO:pytorch_lightning.accelerators.cuda:LOCAL_RANK: 0 - CUDA_VISIBLE_DEVICES: [0]\n",
            "INFO:pytorch_lightning.callbacks.model_summary:\n",
            "  | Name                | Type       | Params\n",
            "---------------------------------------------------\n",
            "0 | encoder_conv_layers | Sequential | 387 K \n",
            "1 | fc_mu               | Linear     | 26.2 M\n",
            "2 | fc_var              | Linear     | 26.2 M\n",
            "3 | linear              | Linear     | 27.3 M\n",
            "4 | decoder_conv_layers | Sequential | 387 K \n",
            "---------------------------------------------------\n",
            "80.5 M    Trainable params\n",
            "0         Non-trainable params\n",
            "80.5 M    Total params\n",
            "322.180   Total estimated model params size (MB)\n"
          ]
        },
        {
          "output_type": "display_data",
          "data": {
            "text/plain": [
              "Training: 0it [00:00, ?it/s]"
            ],
            "application/vnd.jupyter.widget-view+json": {
              "version_major": 2,
              "version_minor": 0,
              "model_id": "4b7a5f15f60c4e9692e63f5c2c4a1617"
            }
          },
          "metadata": {}
        },
        {
          "output_type": "stream",
          "name": "stderr",
          "text": [
            "INFO:pytorch_lightning.utilities.rank_zero:`Trainer.fit` stopped: `max_epochs=10` reached.\n"
          ]
        }
      ]
    },
    {
      "cell_type": "code",
      "source": [
        "import matplotlib.pyplot as plt\n",
        "from matplotlib.pyplot import imshow, figure\n",
        "import numpy as np\n",
        "\n",
        "\n",
        "def vae_results(x, y, model, classes, correct_labels=True, num_outputs=25):\n",
        "    \"\"\"\n",
        "    Function to display output images generated by the model\n",
        "    \"\"\"\n",
        "    # Figure to display the results\n",
        "    figure(figsize=(8, 3), dpi=300)\n",
        "    device = model.device\n",
        "\n",
        "    # Set the model to eval mode\n",
        "    with torch.no_grad():\n",
        "        # Change the value to get incorrect label values\n",
        "        y_incorrect = y - 1                   # Reduce class value by 1\n",
        "        y_incorrect[y_incorrect == -1] = 9    # Change -1 to 9\n",
        "\n",
        "        # One-Hot Encoding\n",
        "        one_hot_y = F.one_hot(y, num_classes=10)\n",
        "        one_hot_incorrect_y = F.one_hot(y_incorrect, num_classes=10)\n",
        "\n",
        "        # Send correct labels to Encoder based on function argument\n",
        "        if correct_labels:\n",
        "            x_encoded = model.encoder(x.to(device), one_hot_y.to(device))\n",
        "        else:\n",
        "            x_encoded = model.encoder(x.to(device), one_hot_incorrect_y.to(device))\n",
        "\n",
        "        # Get mean and variance from encoder output\n",
        "        mu, log_var = model.fc_mu(x_encoded), model.fc_var(x_encoded)\n",
        "\n",
        "        # Calculate standard deviation\n",
        "        std = torch.exp(log_var/2)\n",
        "        q = torch.distributions.Normal(mu,std)\n",
        "        z = q.rsample()\n",
        "\n",
        "        # Send correct labels to Decoder based on function argument\n",
        "        if correct_labels:\n",
        "            x_hat = model.decoder(z, one_hot_y.to(device))\n",
        "        else:\n",
        "            x_hat = model.decoder(z, one_hot_incorrect_y.to(device))\n",
        "\n",
        "        # Plot Results\n",
        "        fig = plt.figure(figsize=(10, 10))\n",
        "        for index in np.arange(num_outputs):\n",
        "            axs = fig.add_subplot(5, 5, index + 1, xticks=[], yticks=[])\n",
        "            img = x_hat[index].to('cpu')\n",
        "            plt.imshow(img.permute(1, 2, 0), cmap='gray')\n",
        "\n",
        "            if correct_labels:\n",
        "                axs.set_title(f\"Label: {classes[y[index]]}\")\n",
        "            else:\n",
        "                axs.set_title(f\"Incorrect Label: {classes[y_incorrect[index]]}\\n Correct Label: {classes[y[index]]}\")\n",
        "\n",
        "        fig.tight_layout()\n",
        "        plt.show()"
      ],
      "metadata": {
        "id": "kWPfDKeokJ85"
      },
      "execution_count": 7,
      "outputs": []
    },
    {
      "cell_type": "code",
      "source": [
        "classes = list(range(0, 10))\n",
        "x, y = next(iter(test_dataloader))\n",
        "vae_results(x, y, model, classes)"
      ],
      "metadata": {
        "colab": {
          "base_uri": "https://localhost:8080/",
          "height": 1000
        },
        "id": "7Oy4XtDUkNvh",
        "outputId": "23f3a51d-6cf5-405a-c562-e65df9c6765c"
      },
      "execution_count": 8,
      "outputs": [
        {
          "output_type": "display_data",
          "data": {
            "text/plain": [
              "<Figure size 2400x900 with 0 Axes>"
            ]
          },
          "metadata": {}
        },
        {
          "output_type": "display_data",
          "data": {
            "text/plain": [
              "<Figure size 1000x1000 with 25 Axes>"
            ],
            "image/png": "[encoded data removed]"
          },
          "metadata": {}
        }
      ]
    }
  ]
}